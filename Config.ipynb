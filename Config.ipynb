{
 "cells": [
  {
   "cell_type": "code",
   "execution_count": 1,
   "metadata": {
    "scrolled": true
   },
   "outputs": [
    {
     "name": "stdout",
     "output_type": "stream",
     "text": [
      "Requirement already satisfied: pymorphy2 in c:\\users\\дмитрий\\appdata\\roaming\\python\\python38\\site-packages (0.9.1)\n",
      "Requirement already satisfied: pymorphy2-dicts-ru<3.0,>=2.4 in c:\\users\\дмитрий\\appdata\\roaming\\python\\python38\\site-packages (from pymorphy2) (2.4.417127.4579844)\n",
      "Requirement already satisfied: dawg-python>=0.7.1 in c:\\users\\дмитрий\\appdata\\roaming\\python\\python38\\site-packages (from pymorphy2) (0.7.2)\n",
      "Requirement already satisfied: docopt>=0.6 in c:\\users\\дмитрий\\appdata\\roaming\\python\\python38\\site-packages (from pymorphy2) (0.6.2)\n"
     ]
    }
   ],
   "source": [
    "! pip install pymorphy2  "
   ]
  },
  {
   "cell_type": "code",
   "execution_count": 2,
   "metadata": {},
   "outputs": [],
   "source": [
    "import nltk   # добавляем все нужные библиотеки\n",
    "import random\n",
    "import json\n",
    "from sklearn.feature_extraction.text import CountVectorizer, TfidfVectorizer\n",
    "from sklearn.linear_model import LogisticRegression\n",
    "from sklearn.model_selection import train_test_split"
   ]
  },
  {
   "cell_type": "markdown",
   "metadata": {},
   "source": [
    "# Базовая модель бота"
   ]
  },
  {
   "cell_type": "code",
   "execution_count": 71,
   "metadata": {},
   "outputs": [],
   "source": [
    "BOT_CONFIG = {  # пробная база знаний, откуда берутся значения\n",
    "    'intents': {\n",
    "        'hello': {\n",
    "            'examples': ['Привет',\"Хелоу\",\"Здавствуй\"],\n",
    "            'responces': ['Прив',\"Хай\",\"Алоха\"]\n",
    "        },\n",
    "        'bye': {\n",
    "            'examples': ['Пока',\"Гудбай\",\"Удачи\"],\n",
    "            'responces': ['До свиданья',\"До скорой встречи\",\"Пока\"]\n",
    "        },\n",
    "        'helps': {\n",
    "            'examples': ['Команды'],\n",
    "            'responces': ['1) Добавить задачу \\n 2) Открыть список задач \\n 3) Редактировать задачу \\n 4) Удалить задачу']\n",
    "        },\n",
    "        'start': {\n",
    "            'examples': ['Старт'],\n",
    "            'responces': ['Привет, меня зовут Кринжер, я твой персональный таскменеджер. Вот что я умею: \\n 1) Добавить задачу \\n 2) Открыть список задач \\n 3) Редактировать задачу \\n 4) Удалить задачу \\n P. S.  Полный список команд ты можешь увидеть по запросу Команды']\n",
    "        },\n",
    "        'add_task': {\n",
    "            'examples': ['1','Добать задачу', '1) Добавить задачу', ' Добавить'],\n",
    "            'responces': ['Введите задачу:']\n",
    "        }\n",
    "    }\n",
    "}"
   ]
  },
  {
   "cell_type": "code",
   "execution_count": 64,
   "metadata": {},
   "outputs": [],
   "source": [
    "def clean (text):  # очистка входа от мусора (регистр, знаки)\n",
    "    text = text.lower()\n",
    "    cleaned_text = ''\n",
    "    for char in text:\n",
    "        if char in '@абвгдеёжзийклмнопрстуфхцчшщъыьэюя ':\n",
    "            cleaned_text += char\n",
    "    return cleaned_text"
   ]
  },
  {
   "cell_type": "code",
   "execution_count": 65,
   "metadata": {},
   "outputs": [],
   "source": [
    "def get_intent(in_text):   # распознавание введеных данных\n",
    "    for intent in BOT_CONFIG['intents'].keys():\n",
    "        for example in BOT_CONFIG['intents'][intent]['examples']:\n",
    "            text1 =  clean(example) \n",
    "            text2 = clean(in_text)\n",
    "            if nltk.edit_distance(text1, text2)/max(len(text1),len(text2)) <  0.4 :\n",
    "                return intent\n",
    "    return 'Не удалось определить интент'"
   ]
  },
  {
   "cell_type": "code",
   "execution_count": 66,
   "metadata": {},
   "outputs": [],
   "source": [
    "def bot(in_text):  # бот отвечает на сообщеньки\n",
    "    intent = get_intent(in_text)\n",
    "    if intent == 'Не удалось определить интент':\n",
    "        return 'Извини, ничего не понял'\n",
    "    else:\n",
    "        return random.choice(BOT_CONFIG['intents'][intent]['responces'])"
   ]
  },
  {
   "cell_type": "code",
   "execution_count": 74,
   "metadata": {},
   "outputs": [
    {
     "name": "stdout",
     "output_type": "stream",
     "text": [
      "страт\n",
      "Извини, ничего не понял\n",
      "старт\n",
      "Привет, меня зовут Кринжер, я твой персональный таскменеджер. Вот что я умею: \n",
      " 1) Добавить задачу \n",
      " 2) Открыть список задач \n",
      " 3) Редактировать задачу \n",
      " 4) Удалить задачу \n",
      " P. S.  Полный список команд ты можешь увидеть по запросу Команды\n",
      "добавь\n",
      "Введите задачу:\n",
      "пока\n",
      "До скорой встречи\n",
      "выход\n",
      "Извини, ничего не понял\n",
      "Выход\n",
      "Извини, ничего не понял\n"
     ]
    }
   ],
   "source": [
    "in_text = ''     #  запуск бота, с возможностью выхода\n",
    "while in_text != 'Выход':\n",
    "    in_text = input()\n",
    "    out_text = bot(in_text)\n",
    "    print(out_text)"
   ]
  },
  {
   "cell_type": "markdown",
   "metadata": {},
   "source": [
    "# Подключение к телеграму"
   ]
  },
  {
   "cell_type": "code",
   "execution_count": 17,
   "metadata": {},
   "outputs": [],
   "source": [
    "# ! pip install python-telegram-bot --upgrade --user"
   ]
  },
  {
   "cell_type": "code",
   "execution_count": 8,
   "metadata": {},
   "outputs": [],
   "source": [
    "import logging   # подключаем библиотеки телеграма для запуска\n",
    "from telegram import Update, ForceReply\n",
    "from telegram.ext import Updater, CommandHandler, MessageHandler, Filters, CallbackContext\n",
    "\n",
    "logging.basicConfig(\n",
    "    format='%(asctime)s - %(name)s - %(levelname)s - %(message)s', level=logging.INFO)\n",
    "logger = logging.getLogger(__name__)\n",
    "\n",
    "def start(update: Update, context: CallbackContext) -> None:\n",
    "    user = update.effective_user\n",
    "    update.message.reply_markdown_v2(\n",
    "        fr'Hi {user.mention_markdown_v2()}\\!',\n",
    "        reply_markup=ForceReply(selective=True),)\n",
    "\n",
    "def help_command(update: Update, context: CallbackContext) -> None:\n",
    "    update.message.reply_text('Help!')\n",
    "\n",
    "def echo(update: Update, context: CallbackContext) -> None:\n",
    "    update.message.reply_text(bot(update.message.text))\n",
    "\n",
    "def main() -> None:\n",
    "    updater = Updater(\"1830028553:AAGELjUoBd6QaImIk4YvuyIHxmX5zl1Iya4\")\n",
    "    dispatcher = updater.dispatcher\n",
    "    dispatcher.add_handler(CommandHandler(\"start\", start))\n",
    "    dispatcher.add_handler(CommandHandler(\"help\", help_command))\n",
    "    dispatcher.add_handler(MessageHandler(Filters.text & ~Filters.command, echo))\n",
    "    updater.start_polling()\n",
    "    updater.idle()"
   ]
  },
  {
   "cell_type": "code",
   "execution_count": 68,
   "metadata": {},
   "outputs": [
    {
     "name": "stderr",
     "output_type": "stream",
     "text": [
      "2022-01-07 13:40:45,809 - apscheduler.scheduler - INFO - Scheduler started\n",
      "2022-01-07 13:41:30,047 - telegram.ext.updater - INFO - Received signal 2 (SIGINT), stopping...\n",
      "2022-01-07 13:41:30,050 - apscheduler.scheduler - INFO - Scheduler has been shut down\n"
     ]
    }
   ],
   "source": [
    "main()  # запускаем бота в телеграм\n"
   ]
  },
  {
   "cell_type": "code",
   "execution_count": null,
   "metadata": {},
   "outputs": [],
   "source": []
  }
 ],
 "metadata": {
  "kernelspec": {
   "display_name": "Python 3",
   "language": "python",
   "name": "python3"
  },
  "language_info": {
   "codemirror_mode": {
    "name": "ipython",
    "version": 3
   },
   "file_extension": ".py",
   "mimetype": "text/x-python",
   "name": "python",
   "nbconvert_exporter": "python",
   "pygments_lexer": "ipython3",
   "version": "3.8.3"
  }
 },
 "nbformat": 4,
 "nbformat_minor": 4
}
