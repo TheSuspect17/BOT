{
 "cells": [
  {
   "cell_type": "code",
   "execution_count": null,
   "metadata": {},
   "outputs": [],
   "source": [
    "import random \n",
    "import nltk"
   ]
  },
  {
   "cell_type": "code",
   "execution_count": null,
   "metadata": {},
   "outputs": [],
   "source": [
    "BOT_CONFIG = {\n",
    "    'intents': {\n",
    "        'hello': {\n",
    "            'examples': ['Привет', 'Добрый день','Добрый вечер','Шалом','Здравствуйте','Здарова','Алоха','Даров','Доброго времени суток','Салам','Прив'],\n",
    "            'responces': ['Привет человек', 'Здравствуйте','Хаю хай']\n",
    "        },\n",
    "        'bye': {\n",
    "            'examples': ['Пока', 'Досвидания','До свидания','Прощайте'],\n",
    "            'responces': ['Еще увидимся', 'Пока','До скорой встречи', 'Если что, я тут']\n",
    "        },\n",
    "        'task manager':{\n",
    "            'examples':['Задачи'],\n",
    "            'responces':['Вот']\n",
    "        },\n",
    "    },\n",
    "    \n",
    "    'failure_phrases': [\n",
    "        'Непонятно, перефразируй пожалуйста', \n",
    "        'Я еще только учусь, не умею на такое отвечать'\n",
    "    ]\n",
    "} "
   ]
  },
  {
   "cell_type": "code",
   "execution_count": null,
   "metadata": {},
   "outputs": [],
   "source": [
    "def clear_text(text):\n",
    "    text = text.lower()\n",
    "    text = ''.join(char for char in text if char in 'абвгдеёжзийклмнопрстуфхцчшщъыьэюя -')\n",
    "    return text"
   ]
  },
  {
   "cell_type": "code",
   "execution_count": null,
   "metadata": {
    "scrolled": true
   },
   "outputs": [],
   "source": [
    "def classify_intent(replica):\n",
    "    replica = clear_text(replica)\n",
    "    \n",
    "    for intent, intent_data in BOT_CONFIG['intents'].items():\n",
    "        for example in intent_data['examples']:\n",
    "            example = clear_text(example)\n",
    "            \n",
    "            distance = nltk.edit_distance(replica,example)\n",
    "            if distance / len(example) < 0.4:\n",
    "                return intent"
   ]
  },
  {
   "cell_type": "code",
   "execution_count": null,
   "metadata": {
    "scrolled": true
   },
   "outputs": [],
   "source": [
    "def get_answer_by_intent(intent):\n",
    "    if intent in BOT_CONFIG['intents']:\n",
    "        responces = BOT_CONFIG['intents'][intent]['responces']\n",
    "        return random.choice(responces)"
   ]
  },
  {
   "cell_type": "code",
   "execution_count": null,
   "metadata": {},
   "outputs": [],
   "source": [
    "def task_manager(intent):\n",
    "    tasks = []\n",
    "    if intent == 'Задачи':\n",
    "        print('Вот ваш список задач на сегодня:')\n",
    "        for i in range len[tasks]:\n",
    "            print(i, '.', tasks[i] \\n)\n",
    "        print('1. Если вы хотите добавить задачу')\n",
    "        print('2. Если вы хотите удалить')\n",
    "        print('3. Если вы хотите отметить выполненую задачу')\n",
    "        print('4. Если вы хотите выйти')\n",
    "        n = int(input())\n",
    "        if n == 1:\n",
    "            add_task()\n",
    "        elif n== 2:\n",
    "            del_task()\n",
    "        elif n == 3:\n",
    "            comp_task()\n",
    "        elif n == 4:\n",
    "            pass"
   ]
  },
  {
   "cell_type": "code",
   "execution_count": null,
   "metadata": {},
   "outputs": [],
   "source": [
    "def  add_task():\n",
    "    print('Введите задачу, которую хотите добавить:')\n",
    "    stroka = str(input())\n",
    "    tasks = tasks.append(stroka)\n",
    "    return tasks"
   ]
  },
  {
   "cell_type": "code",
   "execution_count": null,
   "metadata": {},
   "outputs": [],
   "source": [
    "def  del_task():\n",
    "    print('Введите номер задачи, которую вы хотите удалить:')\n",
    "    tasks = tasks.del()"
   ]
  },
  {
   "cell_type": "code",
   "execution_count": null,
   "metadata": {},
   "outputs": [],
   "source": [
    "def  comp_task():\n",
    "    print('Введите номер задачи, которую вы хотите выполнить:')"
   ]
  },
  {
   "cell_type": "code",
   "execution_count": null,
   "metadata": {},
   "outputs": [],
   "source": [
    "def generate_answer(replica):\n",
    "    #TODO\n",
    "    return "
   ]
  },
  {
   "cell_type": "code",
   "execution_count": null,
   "metadata": {},
   "outputs": [],
   "source": [
    "def get_stub():\n",
    "    failure_phrases = BOT_CONFIG['failure_phrases']\n",
    "    return random.choice(failure_phrases) "
   ]
  },
  {
   "cell_type": "code",
   "execution_count": null,
   "metadata": {},
   "outputs": [],
   "source": [
    "def bot(replica):\n",
    "    # NLU\n",
    "    intent = classify_intent(replica)\n",
    "    \n",
    "    # Получение ответа\n",
    "    \n",
    "    #правила\n",
    "    if intent:\n",
    "        answer = get_answer_by_intent(intent)\n",
    "        if answer:\n",
    "            return answer\n",
    "        \n",
    "    #генеративная модель\n",
    "    answer = generate_answer(replica)\n",
    "    if answer:\n",
    "            return answer\n",
    "        \n",
    "    #заглушки\n",
    "    answer = get_stub()\n",
    "    return answer"
   ]
  },
  {
   "cell_type": "code",
   "execution_count": null,
   "metadata": {},
   "outputs": [],
   "source": [
    "from telegram import Update\n",
    "from telegram.ext import Updater, CommandHandler, MessageHandler, Filters, CallbackContext\n",
    "\n",
    "def start(update: Update, context: CallbackContext) -> None:\n",
    "    \"\"\"Send a message when the command /start is issued.\"\"\"\n",
    "    update.message.reply_text('Hi!')\n",
    "\n",
    "\n",
    "def help_command(update: Update, context: CallbackContext) -> None:\n",
    "    \"\"\"Send a message when the command /help is issued.\"\"\"\n",
    "    update.message.reply_text('Help!')\n",
    "\n",
    "\n",
    "def run_bot(update: Update, context: CallbackContext) -> None:\n",
    "    response = bot(update.message.text)\n",
    "    update.message.reply_text(response)\n",
    "\n",
    "\n",
    "def main():\n",
    "    \"\"\"Start the bot.\"\"\"\n",
    "    updater = Updater(\"1622682782:AAF0ZUetAI1hGNGLQdgTuNYBlWVrs7WN9QE\", use_context=True)\n",
    "    \n",
    "    dispatcher = updater.dispatcher\n",
    "    dispatcher.add_handler(CommandHandler(\"start\", start))\n",
    "    dispatcher.add_handler(CommandHandler(\"help\", help_command))\n",
    "    dispatcher.add_handler(MessageHandler(Filters.text & ~Filters.command, run_bot))\n",
    " \n",
    "    updater.start_polling()\n",
    "    updater.idle()"
   ]
  },
  {
   "cell_type": "code",
   "execution_count": null,
   "metadata": {
    "scrolled": true
   },
   "outputs": [],
   "source": [
    "main()"
   ]
  },
  {
   "cell_type": "code",
   "execution_count": null,
   "metadata": {},
   "outputs": [],
   "source": []
  }
 ],
 "metadata": {
  "kernelspec": {
   "display_name": "Python 3",
   "language": "python",
   "name": "python3"
  },
  "language_info": {
   "codemirror_mode": {
    "name": "ipython",
    "version": 3
   },
   "file_extension": ".py",
   "mimetype": "text/x-python",
   "name": "python",
   "nbconvert_exporter": "python",
   "pygments_lexer": "ipython3",
   "version": "3.8.3"
  }
 },
 "nbformat": 4,
 "nbformat_minor": 4
}
