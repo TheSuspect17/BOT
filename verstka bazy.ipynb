{
 "cells": [
  {
   "cell_type": "code",
   "execution_count": 2,
   "metadata": {
    "scrolled": true
   },
   "outputs": [
    {
     "name": "stdout",
     "output_type": "stream",
     "text": [
      "['ШМАРА', 'ЗДАРОВА']\n"
     ]
    }
   ],
   "source": [
    "fname = 'GG.csv'\n",
    "\n",
    "import csv\n",
    "\n",
    "with open(fname) as f:\n",
    "    reader = csv.DictReader(f)\n",
    "    lines = list(reader)\n",
    "\n",
    "\n",
    "themes = [l['Тематика'] for l in lines]\n",
    "question_1 = [l['Вопрос_1'] for l in lines]\n",
    "question_2 = [l['Вопрос_2'] for l in lines]\n",
    "answer_1 = [l['Ответ_1']for l in lines]\n",
    "answer_2 = [l['Ответ_2']for l in lines]\n",
    "suggestion_1 = []\n",
    "suggestion_2 = []\n",
    "decision_1 = []\n",
    "decision_2 = []\n",
    "for i in range (0,len(themes)-1):\n",
    "    suggestion_1.append(question_1[0])\n",
    "    suggestion_1.append(question_2[0])\n",
    "    suggestion_2.append(question_1[1])\n",
    "    suggestion_2.append(question_2[1])\n",
    "    decision_1.append(answer_1[0])\n",
    "    decision_1.append(answer_2[0])\n",
    "    decision_2.append(answer_1[1])\n",
    "    decision_2.append(answer_2[1])\n",
    "print (answer_1)"
   ]
  },
  {
   "cell_type": "code",
   "execution_count": 23,
   "metadata": {},
   "outputs": [
    {
     "data": {
      "text/plain": [
       "'ХУЙ'"
      ]
     },
     "execution_count": 23,
     "metadata": {},
     "output_type": "execute_result"
    }
   ],
   "source": [
    "decision_1[1]"
   ]
  },
  {
   "cell_type": "code",
   "execution_count": 6,
   "metadata": {},
   "outputs": [
    {
     "ename": "SyntaxError",
     "evalue": "invalid syntax (<ipython-input-6-b25b4492a80c>, line 22)",
     "output_type": "error",
     "traceback": [
      "\u001b[1;36m  File \u001b[1;32m\"<ipython-input-6-b25b4492a80c>\"\u001b[1;36m, line \u001b[1;32m22\u001b[0m\n\u001b[1;33m    list_1.append(suggestion_1[i])\u001b[0m\n\u001b[1;37m    ^\u001b[0m\n\u001b[1;31mSyntaxError\u001b[0m\u001b[1;31m:\u001b[0m invalid syntax\n"
     ]
    }
   ],
   "source": [
    "list_1 = []\n",
    "list_2 = []\n",
    "list_3 = []\n",
    "list_4 = []\n",
    "for i in range (0, len(themes)):\n",
    "    BOT_CONFIG = {\n",
    "        'intents': {\n",
    "            themes[0]: {\n",
    "                'examples': list_1,\n",
    "                'responces':list_2\n",
    "            },\n",
    "            themes[1]: {\n",
    "                'examples': list_3,\n",
    "                'responces':list_4\n",
    "        },\n",
    "    \n",
    "        'failure_phrases': [\n",
    "            'Непонятно, перефразируй пожалуйста', \n",
    "            'Я еще только учусь, не умею на такое отвечать'\n",
    "        ]\n",
    "    } \n",
    "    list_1.append(suggestion_1[i])\n",
    "    list_2.append(decision_1[i])\n",
    "    list_3.append(suggestion_2[i])\n",
    "    list_4.append(decision_2[i])\n",
    "        \n",
    "print(BOT_CONFIG)"
   ]
  },
  {
   "cell_type": "code",
   "execution_count": 4,
   "metadata": {},
   "outputs": [
    {
     "name": "stdout",
     "output_type": "stream",
     "text": [
      "6\n"
     ]
    }
   ],
   "source": [
    "config_codes = []\n",
    "\n",
    "for code in codes:\n",
    "    if 'BOT_CONFIG =' in code:\n",
    "        code = code.split('BOT_CONFIG =')[1]\n",
    "    if 'BOT_CONFIG=' in code:\n",
    "        code = code.split('BOT_CONFIG=')[1]\n",
    "    if 'BOT_CONFIG  =' in code:\n",
    "        code = code.split('BOT_CONFIG  =')[1]\n",
    "    if 'def' in code:\n",
    "        code = code.split('\\ndef ')[0]\n",
    "        \n",
    "    code = code.strip()\n",
    "    \n",
    "    config_codes.append(code)\n",
    "    \n",
    "print(len(config_codes))"
   ]
  },
  {
   "cell_type": "code",
   "execution_count": 6,
   "metadata": {},
   "outputs": [
    {
     "ename": "NameError",
     "evalue": "name 'configs' is not defined",
     "output_type": "error",
     "traceback": [
      "\u001b[1;31m---------------------------------------------------------------------------\u001b[0m",
      "\u001b[1;31mNameError\u001b[0m                                 Traceback (most recent call last)",
      "\u001b[1;32m<ipython-input-6-883f968c63f0>\u001b[0m in \u001b[0;36m<module>\u001b[1;34m\u001b[0m\n\u001b[0;32m      4\u001b[0m \u001b[1;33m\u001b[0m\u001b[0m\n\u001b[0;32m      5\u001b[0m }\n\u001b[1;32m----> 6\u001b[1;33m \u001b[1;32mfor\u001b[0m \u001b[0mconfig\u001b[0m \u001b[1;32min\u001b[0m \u001b[0mconfigs\u001b[0m\u001b[1;33m:\u001b[0m\u001b[1;33m\u001b[0m\u001b[1;33m\u001b[0m\u001b[0m\n\u001b[0m\u001b[0;32m      7\u001b[0m     \u001b[1;32mif\u001b[0m \u001b[0misinstance\u001b[0m\u001b[1;33m(\u001b[0m\u001b[0mconfig\u001b[0m\u001b[1;33m,\u001b[0m \u001b[0mdict\u001b[0m\u001b[1;33m)\u001b[0m\u001b[1;33m:\u001b[0m\u001b[1;33m\u001b[0m\u001b[1;33m\u001b[0m\u001b[0m\n\u001b[0;32m      8\u001b[0m         \u001b[1;32mif\u001b[0m \u001b[1;34m'intents'\u001b[0m \u001b[1;32min\u001b[0m \u001b[0mconfig\u001b[0m\u001b[1;33m:\u001b[0m\u001b[1;33m\u001b[0m\u001b[1;33m\u001b[0m\u001b[0m\n",
      "\u001b[1;31mNameError\u001b[0m: name 'configs' is not defined"
     ]
    }
   ],
   "source": [
    "big_config = {\n",
    "    'intents': {},\n",
    "    'failure_phrases': []\n",
    "    \n",
    "}\n",
    "for config in configs:\n",
    "    if isinstance(config, dict):\n",
    "        if 'intents' in config:\n",
    "            for intent, value in config ['intents'].items():\n",
    "                if intent not in big_config['intents']:\n",
    "                    big_config['intents'][intent] = {\n",
    "                    'examples': [],\n",
    "                    'responses': []\n",
    "                }\n",
    "            if isinstance(value, dict):\n",
    "                big_config ['intents'][intent]['examples'] += value.get('examples', [])\n",
    "                big_config ['intents'][intent]['responses'] += value.get('responses', [])\n",
    "        big_config['failure_phrases'] += config.get('failure_phrases', [])"
   ]
  },
  {
   "cell_type": "code",
   "execution_count": 7,
   "metadata": {},
   "outputs": [],
   "source": [
    "for intent, value in big_config['intents'].items():\n",
    "    value['examples'] = list(set(value['examples']))\n",
    "    value['responses'] = list(set(value['responses']))\n",
    "    value['examples'] = [s.strip() for s in value['examples'] if isinstance(s, str) and s.strip()]\n",
    "    value['responses'] = [s.strip() for s in value['responses'] if isinstance(s, str) and s.strip()]\n",
    "    \n",
    "big_config['failure_phrases'] = list(set(big_config['failure_phrases']))\n",
    "big_config['failure_phrases'] = [s.strip() for s in big_config['failure_phrases'] if isinstance(s, str) and s.strip()]\n"
   ]
  }
 ],
 "metadata": {
  "kernelspec": {
   "display_name": "Python 3",
   "language": "python",
   "name": "python3"
  },
  "language_info": {
   "codemirror_mode": {
    "name": "ipython",
    "version": 3
   },
   "file_extension": ".py",
   "mimetype": "text/x-python",
   "name": "python",
   "nbconvert_exporter": "python",
   "pygments_lexer": "ipython3",
   "version": "3.8.3"
  }
 },
 "nbformat": 4,
 "nbformat_minor": 4
}
